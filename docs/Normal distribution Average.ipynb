{
 "cells": [
  {
   "cell_type": "markdown",
   "metadata": {},
   "source": [
    "# Interval Statistic\n",
    "Interval statistic is library to calculate interval estimations of an average and a variance.\n",
    "\n",
    "There are several algorithms to estimate an average:\n",
    "\n",
    "- by known variance\n",
    "- by unknown variance\n",
    "- by mena absolute deviation\n",
    "- by interquartile width"
   ]
  },
  {
   "cell_type": "markdown",
   "metadata": {},
   "source": [
    "Load Libraries"
   ]
  },
  {
   "cell_type": "code",
   "execution_count": 1,
   "metadata": {
    "collapsed": false
   },
   "outputs": [
    {
     "name": "stderr",
     "output_type": "stream",
     "text": [
      "WARNING: New definition \n",
      "    promote_rule(Type{ValidatedNumerics.Interval{#T<:Real}}, Type{#S<:Real}) at /Users/eoskin/.julia/v0.4/ValidatedNumerics/src/intervals/conversion.jl:9\n",
      "is ambiguous with: \n",
      "    promote_rule(Type{#A<:Real}, Type{ForwardDiff.Dual{#N<:Any, #B<:Real}}) at /Users/eoskin/.julia/v0.4/ForwardDiff/src/dual.jl:149.\n",
      "To fix, define \n",
      "    promote_rule(Type{ValidatedNumerics.Interval{#T<:Real}}, Type{ForwardDiff.Dual{#N<:Any, #B<:Real}})\n",
      "before the new definition.\n",
      "WARNING: New definition \n",
      "    promote_rule(Type{ValidatedNumerics.DecoratedInterval{#T<:Real}}, Type{#S<:Real}) at /Users/eoskin/.julia/v0.4/ValidatedNumerics/src/decorations/intervals.jl:76\n",
      "is ambiguous with: \n",
      "    promote_rule(Type{#A<:Real}, Type{ForwardDiff.Dual{#N<:Any, #B<:Real}}) at /Users/eoskin/.julia/v0.4/ForwardDiff/src/dual.jl:149.\n",
      "To fix, define \n",
      "    promote_rule(Type{ValidatedNumerics.DecoratedInterval{#T<:Real}}, Type{ForwardDiff.Dual{#N<:Any, #B<:Real}})\n",
      "before the new definition.\n"
     ]
    },
    {
     "data": {
      "text/plain": [
       "MersenneTwister(Base.dSFMT.DSFMT_state(Int32[1007524736,1073256705,415953332,1072893275,-601364280,1073193666,-1335760268,1072926448,1521827180,1073499520  …  -439825479,1072978026,-411693740,1073111955,-1611334130,1963385220,236575170,-789052601,382,0]),[0.0,6.94301e-310,6.94301e-310,6.94301e-310,4.94066e-324,6.94301e-310,NaN,0.0,0.0,6.94301e-310  …  0.0,6.94301e-310,6.94301e-310,6.94301e-310,2.16444e-312,6.94301e-310,6.94301e-310,6.94301e-310,6.94301e-310,6.94301e-310],382,UInt32[0x0000000a])"
      ]
     },
     "execution_count": 1,
     "metadata": {},
     "output_type": "execute_result"
    }
   ],
   "source": [
    "using IntervalStatistic\n",
    "using Distributions\n",
    "using ValidatedNumerics\n",
    "using Plots\n",
    "pyplot(reuse=true)\n",
    "srand(10)"
   ]
  },
  {
   "cell_type": "code",
   "execution_count": 2,
   "metadata": {
    "collapsed": false
   },
   "outputs": [
    {
     "data": {
      "text/plain": [
       "show_result (generic function with 1 method)"
      ]
     },
     "execution_count": 2,
     "metadata": {},
     "output_type": "execute_result"
    }
   ],
   "source": [
    "to_errors = (i) -> [i.lo i.hi] - mid(i)\n",
    "\n",
    "function show_result(value, position)\n",
    "    label = value[2]\n",
    "    data = value[1]\n",
    "    println(label, \": \", data)\n",
    "    scatter!(\n",
    "        [position], (x) -> mid(data), yerror=to_errors(data), \n",
    "        label=label\n",
    "    )\n",
    "end"
   ]
  },
  {
   "cell_type": "markdown",
   "metadata": {},
   "source": [
    "Generate samples of normal distribution"
   ]
  },
  {
   "cell_type": "code",
   "execution_count": 3,
   "metadata": {
    "collapsed": false
   },
   "outputs": [
    {
     "data": {
      "text/plain": [
       "0.07504936078705886"
      ]
     },
     "execution_count": 3,
     "metadata": {},
     "output_type": "execute_result"
    }
   ],
   "source": [
    "d = Normal()\n",
    "length = 100\n",
    "confidence_probability = 0.95\n",
    "values = rand(d, length)\n",
    "mu, sigma = params(d)\n",
    "average = reduce(+, values) / length"
   ]
  },
  {
   "cell_type": "code",
   "execution_count": 4,
   "metadata": {
    "collapsed": false
   },
   "outputs": [
    {
     "name": "stdout",
     "output_type": "stream",
     "text": [
      "[Plots.jl] Initializing backend: pyplot\n",
      "known variance: [-0.120948, 0.271046]\n",
      "inter quartile width: [-0.144696, 0.109761]\n",
      "unknown variance: [-0.0959839, 0.246083]\n",
      "standard error: [-0.0115818, 0.161681]\n"
     ]
    },
    {
     "data": {
      "text/html": [
       "<img src=\"data:image/png;base64,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\" />"
      ]
     },
     "execution_count": 4,
     "metadata": {},
     "output_type": "execute_result"
    }
   ],
   "source": [
    "result_by_known_variance = [\n",
    "    IntervalStatistic.mean(values, IntervalStatistic.Mean.byKnownVariance(\n",
    "        confidence_probability, sigma^2\n",
    "    )),\n",
    "    \"known variance\"\n",
    "]\n",
    "\n",
    "result_by_inter_quartile_width = [\n",
    "    IntervalStatistic.mean(values, IntervalStatistic.Mean.byInterQuartileWidth(\n",
    "        confidence_probability\n",
    "    )),\n",
    "    \"inter quartile width\"\n",
    "]\n",
    "\n",
    "result_by_standard_errror = [\n",
    "    IntervalStatistic.mean(values, IntervalStatistic.Mean.byStandardError()),\n",
    "    \"standard error\"\n",
    "]\n",
    "\n",
    "result_by_unknown_variance = [\n",
    "    IntervalStatistic.mean(values, IntervalStatistic.Mean.byUnknownVariance(\n",
    "        confidence_probability\n",
    "    )),\n",
    "    \"unknown variance\"\n",
    "]\n",
    "\n",
    "\n",
    "plot([1.0;2.0;4.0], (x) -> mu, label=\"mu\")\n",
    "plot!([1.0;2.0;4.0], (x) -> average, label=\"average\")\n",
    "\n",
    "show_result(result_by_known_variance, 1)\n",
    "show_result(result_by_inter_quartile_width, 2)\n",
    "show_result(result_by_unknown_variance, 3)\n",
    "show_result(result_by_standard_errror, 4)"
   ]
  },
  {
   "cell_type": "markdown",
   "metadata": {},
   "source": [
    "Generate samples of normal distribution with mu=100 sigma=4"
   ]
  },
  {
   "cell_type": "code",
   "execution_count": 5,
   "metadata": {
    "collapsed": false
   },
   "outputs": [
    {
     "data": {
      "text/plain": [
       "99.73470493027047"
      ]
     },
     "execution_count": 5,
     "metadata": {},
     "output_type": "execute_result"
    }
   ],
   "source": [
    "d = Normal(100, 4)\n",
    "length = 100\n",
    "confidence_probability = 0.95\n",
    "values = rand(d, length)\n",
    "mu, sigma = params(d)\n",
    "average = reduce(+, values) / length"
   ]
  },
  {
   "cell_type": "code",
   "execution_count": 6,
   "metadata": {
    "collapsed": false
   },
   "outputs": [
    {
     "name": "stdout",
     "output_type": "stream",
     "text": [
      "known variance: [98.9507, 100.519]\n",
      "inter quartile width: [99.3988, 100.533]\n",
      "unknown variance: [99.004, 100.466]\n",
      "standard error: [99.3646, 100.105]\n"
     ]
    },
    {
     "data": {
      "text/html": [
       "<img src=\"data:image/png;base64,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\" />"
      ]
     },
     "execution_count": 6,
     "metadata": {},
     "output_type": "execute_result"
    }
   ],
   "source": [
    "result_by_known_variance = [\n",
    "    IntervalStatistic.mean(values, IntervalStatistic.Mean.byKnownVariance(\n",
    "        confidence_probability, sigma^2\n",
    "    )),\n",
    "    \"known variance\"\n",
    "]\n",
    "\n",
    "result_by_inter_quartile_width = [\n",
    "    IntervalStatistic.mean(values, IntervalStatistic.Mean.byInterQuartileWidth(\n",
    "        confidence_probability\n",
    "    )),\n",
    "    \"inter quartile width\"\n",
    "]\n",
    "\n",
    "result_by_standard_errror = [\n",
    "    IntervalStatistic.mean(values, IntervalStatistic.Mean.byStandardError()),\n",
    "    \"standard error\"\n",
    "]\n",
    "\n",
    "result_by_unknown_variance = [\n",
    "    IntervalStatistic.mean(values, IntervalStatistic.Mean.byUnknownVariance(\n",
    "        confidence_probability\n",
    "    )),\n",
    "    \"unknown variance\"\n",
    "]\n",
    "\n",
    "\n",
    "plot([1.0;2.0;4.0], (x) -> mu, label=\"mu\")\n",
    "plot!([1.0;2.0;4.0], (x) -> average, label=\"average\")\n",
    "\n",
    "show_result(result_by_known_variance, 1)\n",
    "show_result(result_by_inter_quartile_width, 2)\n",
    "show_result(result_by_unknown_variance, 3)\n",
    "show_result(result_by_standard_errror, 4)"
   ]
  },
  {
   "cell_type": "code",
   "execution_count": null,
   "metadata": {
    "collapsed": true
   },
   "outputs": [],
   "source": []
  }
 ],
 "metadata": {
  "kernelspec": {
   "display_name": "Julia 0.4.5",
   "language": "julia",
   "name": "julia-0.4"
  },
  "language_info": {
   "file_extension": ".jl",
   "mimetype": "application/julia",
   "name": "julia",
   "version": "0.4.5"
  }
 },
 "nbformat": 4,
 "nbformat_minor": 0
}
